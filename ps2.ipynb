{
 "cells": [
  {
   "cell_type": "markdown",
   "id": "7b3e09c7",
   "metadata": {},
   "source": [
    "# Problem Set 2\n",
    "## 1. Monte Carlo Simulations for 2SLS and two-step efficient GMM\n",
    "### (a) Generate observations for ($Y_i,X_i,Z_i$)\n"
   ]
  },
  {
   "cell_type": "code",
   "execution_count": 1,
   "id": "2050204c",
   "metadata": {},
   "outputs": [
    {
     "data": {
      "text/plain": [
       "data (generic function with 1 method)"
      ]
     },
     "execution_count": 1,
     "metadata": {},
     "output_type": "execute_result"
    }
   ],
   "source": [
    "using Distributions, PrettyTables, Random\n",
    "\n",
    "n=500\n",
    "const β=1.0\n",
    "const Π=[1.0;1.0;]\n",
    "const ρ=0.95;\n",
    "const Σ=[1.0 ρ; ρ 1;];\n",
    "\n",
    "Random.seed!(2634)\n",
    "\n",
    "function data(n)\n",
    "    Z=randn(n,2)\n",
    "    mvnorm = MvNormal([0.0; 0.0], Σ)\n",
    "    err = rand(mvnorm,n)'\n",
    "    ϵ=err[:,1]\n",
    "    V=err[:,2]\n",
    "\n",
    "    X=Z*Π+V\n",
    "    U=exp.(Z*Π) .* ϵ\n",
    "    Y=β*X+U\n",
    "    return (Y = Y, X = X, Z = Z, U = U)\n",
    "end"
   ]
  },
  {
   "cell_type": "markdown",
   "id": "0f71ca29",
   "metadata": {},
   "source": [
    "### (b) Compute $\\hat\\beta^{2sls}$ and its standard error\n",
    "Also doing part c because it uses 2sls"
   ]
  },
  {
   "cell_type": "code",
   "execution_count": 2,
   "id": "584ae968",
   "metadata": {},
   "outputs": [
    {
     "data": {
      "text/plain": [
       "estimators (generic function with 1 method)"
      ]
     },
     "execution_count": 2,
     "metadata": {},
     "output_type": "execute_result"
    }
   ],
   "source": [
    "function estimators(Y,X,Z,U)\n",
    "    n = length(Y)\n",
    "    PZ = Z*( (Z'*Z)\\Z' )\n",
    "    β2sls = (X'*PZ*X)\\(X'*PZ*Y)\n",
    "    Q = Z'*X/n\n",
    "    W = inv(Z'*Z/n)\n",
    "    ZU = Z.*(Y-β2sls*X)\n",
    "    Ω1 = (ZU' * ZU)/n\n",
    "    var = ( (Q'*W*Q)\\(Q'*W*Ω1*W*Q)/(Q'*W*Q) )/n\n",
    "    std2sls = sqrt(var)\n",
    "    \n",
    "    # part (c) GMM\n",
    "    WGMM = inv(Ω1);\n",
    "    βgmm = (X'*Z*WGMM*Z'*X)\\(X'*Z*WGMM*Z'*Y)\n",
    "    ZU = Z.*(Y-βgmm*X)\n",
    "    Ω2 = (ZU' * ZU)/n\n",
    "    WGMM = inv(Ω2)\n",
    "    stdgmm = sqrt(inv(Q'*WGMM*Q)/n)\n",
    "    \n",
    "    return β2sls, std2sls, βgmm, stdgmm\n",
    "end"
   ]
  },
  {
   "cell_type": "markdown",
   "id": "5de2e3db",
   "metadata": {},
   "source": [
    "### (d) Generate 10,000 independent samples and calculate bias and confidence intervals"
   ]
  },
  {
   "cell_type": "code",
   "execution_count": 3,
   "id": "a1981274",
   "metadata": {},
   "outputs": [],
   "source": [
    "R=10000\n",
    "Bias2SLS=0.0\n",
    "BiasGMM=0.0\n",
    "std2SLS=0.0\n",
    "stdGMM=0.0\n",
    "In2SLS=0.0\n",
    "InGMM=0.0\n",
    "CritVal = quantile(Normal(0,1), .975);\n",
    "for r=1:R\n",
    "    Y, X, Z, U = data(n)\n",
    "    b2sls, s2sls, bgmm, sgmm = estimators(Y,X,Z,U)\n",
    "    Bias2SLS += abs(b2sls-β)\n",
    "    BiasGMM += abs(bgmm-β)\n",
    "    std2SLS += s2sls\n",
    "    stdGMM += sgmm\n",
    "    In2SLS += (β>b2sls - CritVal*s2sls)*(β<b2sls + CritVal*s2sls)\n",
    "    InGMM += (β>bgmm - CritVal*sgmm)*(β<bgmm + CritVal*sgmm)\n",
    "end"
   ]
  },
  {
   "cell_type": "markdown",
   "id": "13040b33",
   "metadata": {},
   "source": [
    "### (e) Report statistics"
   ]
  },
  {
   "cell_type": "code",
   "execution_count": 4,
   "id": "e53e6684",
   "metadata": {},
   "outputs": [
    {
     "name": "stdout",
     "output_type": "stream",
     "text": [
      "┌──────────────────┬──────────┬──────────┐\n",
      "│\u001b[1m        Statistic \u001b[0m│\u001b[1m     2SLS \u001b[0m│\u001b[1m      GMM \u001b[0m│\n",
      "├──────────────────┼──────────┼──────────┤\n",
      "│             Bias │  0.45382 │  0.37402 │\n",
      "│    Ave. std. err │ 0.521618 │ 0.440295 │\n",
      "│ CI Coverage Prob │   0.9564 │   0.9477 │\n",
      "└──────────────────┴──────────┴──────────┘\n"
     ]
    }
   ],
   "source": [
    "table_data = [\"Bias\" Bias2SLS/R BiasGMM/R\n",
    "        \"Ave. std. err\" std2SLS/R stdGMM/R;\n",
    "        \"CI Coverage Prob\" In2SLS/R InGMM/R;        \n",
    "]\n",
    "header=[\"Statistic\" \"2SLS\" \"GMM\";]\n",
    "pretty_table(table_data,header)"
   ]
  },
  {
   "cell_type": "markdown",
   "id": "b25e330a",
   "metadata": {},
   "source": [
    "### (f) Compare two methods, which is preferred?\n",
    "GMM has a smaller bias and standard error, and still has a coverage probability close to 0.95, so GMM is preferred."
   ]
  },
  {
   "cell_type": "markdown",
   "id": "d45e69ca",
   "metadata": {},
   "source": [
    "### (g) Repeat d-f for n=100"
   ]
  },
  {
   "cell_type": "code",
   "execution_count": 5,
   "id": "057380d4",
   "metadata": {},
   "outputs": [
    {
     "name": "stdout",
     "output_type": "stream",
     "text": [
      "┌──────────────────┬──────────┬──────────┐\n",
      "│\u001b[1m        Statistic \u001b[0m│\u001b[1m     2SLS \u001b[0m│\u001b[1m      GMM \u001b[0m│\n",
      "├──────────────────┼──────────┼──────────┤\n",
      "│             Bias │ 0.849006 │ 0.644065 │\n",
      "│    Ave. std. err │ 0.903082 │ 0.691824 │\n",
      "│ CI Coverage Prob │   0.9529 │   0.9339 │\n",
      "└──────────────────┴──────────┴──────────┘\n"
     ]
    }
   ],
   "source": [
    "R=10000\n",
    "Bias2SLS=0.0\n",
    "BiasGMM=0.0\n",
    "std2SLS=0.0\n",
    "stdGMM=0.0\n",
    "In2SLS=0.0\n",
    "InGMM=0.0\n",
    "CritVal = quantile(Normal(0,1), .975);\n",
    "for r=1:R\n",
    "    Y, X, Z, U = data(100)\n",
    "    b2sls, s2sls, bgmm, sgmm = estimators(Y,X,Z,U)\n",
    "    Bias2SLS += abs(b2sls-β)\n",
    "    BiasGMM += abs(bgmm-β)\n",
    "    std2SLS += s2sls\n",
    "    stdGMM += sgmm\n",
    "    In2SLS += (β>b2sls - CritVal*s2sls)*(β<b2sls + CritVal*s2sls)\n",
    "    InGMM += (β>bgmm - CritVal*sgmm)*(β<bgmm + CritVal*sgmm)\n",
    "end\n",
    "table_data = [\"Bias\" Bias2SLS/R BiasGMM/R\n",
    "        \"Ave. std. err\" std2SLS/R stdGMM/R;\n",
    "        \"CI Coverage Prob\" In2SLS/R InGMM/R;        \n",
    "]\n",
    "header=[\"Statistic\" \"2SLS\" \"GMM\";]\n",
    "pretty_table(table_data,header)"
   ]
  },
  {
   "cell_type": "markdown",
   "id": "27fe77fc",
   "metadata": {},
   "source": [
    "With n=100, GMM is still preferred because it has a smaller bias and standard error, although the coverage probability is a little lower now. 2sls still has a coverage probability at 0.95, so it may be more reliable for smaller samples."
   ]
  },
  {
   "cell_type": "markdown",
   "id": "292272f1",
   "metadata": {},
   "source": [
    "## 2. Prove (10), (11), and (12) in Lecture 1.\n",
    "### (10): $P(W_n>\\chi_{k,1-\\alpha}^2)\\rightarrow 1$.\n",
    "Under the fixed alternative $H_1:\\beta=\\beta_0+\\delta$ and by slutsky:\n",
    "$$\n",
    "\\frac{W_n}{n} = (\\hat\\beta_n-\\beta_0)^\\prime \\hat{V}^{-1}(\\hat\\beta_n-\\beta_0)\\rightarrow_p \\delta^\\prime V^{-1} \\delta>0\\\\\n",
    "P(W_n>\\chi_{k,1-\\alpha}^2)=P(\\frac{W_n}{n}>\\frac{\\chi_{k,1-\\alpha}^2}{n})\\rightarrow 1 \\text{ as } n\\rightarrow\\infty\n",
    "$$\n",
    "because $\\frac{W_n}{n}\\rightarrow_p \\delta^\\prime V^{-1}\\delta>0$ and $\\frac{\\chi_{k,1-\\alpha}^2}{n}\\rightarrow 0$ \n",
    "### (11): $n^{1/2}\\big(\\hat\\beta_n(A_n)-\\beta_0\\big)\\rightarrow_d N(\\delta,V(A))$\n",
    "Under the local alternative $H_1:\\beta=\\beta_0+\\frac{\\delta}{\\sqrt{n}}$:\n",
    "$$\n",
    "\\sqrt{n}\\big(\\hat\\beta(A_n)-\\beta_0\\big)=\\delta+(D_n(A_n^\\prime A_n)D_n^\\prime)^{-1}D_n(A_n^\\prime A_n)n^{-1/2}\\sum{z_i u_i}\\\\\n",
    "D_n:\\frac{1}{n}\\sum x_i z_i^{-1}\n",
    "$$\n",
    "We know that\n",
    "$$\n",
    "V(W)=(Q^\\prime W Q)^{-1}Q^\\prime W\\Omega WQ(Q^\\prime WQ)^{-1}\\rightarrow_p N(0,V(A))\n",
    "$$\n",
    "Then\n",
    "$$\n",
    "\\sqrt{n}(\\hat\\beta(A_n)-\\beta_0)\\rightarrow_d N(\\delta,V(A))\n",
    "$$\n",
    "### (12): $W_n \\rightarrow_d \\chi_{k}^2\\big(\\delta^\\prime(V(A))^{-1}\\delta\\big)$\n",
    "$$\n",
    "W_n = \\sqrt{n}(\\hat\\beta_n-\\beta_0)^\\prime \\hat{V}_n^{-1}\\sqrt{n}(\\hat\\beta_n-\\beta_0)\n",
    "$$\n",
    "From 11,\n",
    "$$\n",
    "V^{-1/2}\\sqrt{n}(\\hat\\beta_n-\\beta_0)\\rightarrow_d V^{-1/2}N(\\delta,V)=N(V^{-1/2}\\delta,I_k)=z+V^{1/2}\\delta\n",
    "$$\n",
    "where $z=N(0,I_k).$ <br>\n",
    "Then\n",
    "$$\n",
    "W_n\\rightarrow (z+v^{1/2}\\delta)^\\prime(z+V^{1/2}\\delta)//\n",
    "\\rightarrow_d \\chi_{k}^2(\\delta^\\prime V(A)^{-1}\\delta)\n",
    "$$"
   ]
  },
  {
   "cell_type": "markdown",
   "id": "c910efbf",
   "metadata": {},
   "source": [
    "## 3. Local power of the overidentifying restrictions test\n",
    "### (a)\n",
    "$$\n",
    "\\begin{align}\n",
    "\\tilde\\beta_n(W_N) & =(X^\\prime ZW_nZ^\\prime X)^{-1}X^\\prime ZW_nZ^\\prime Y\\\\\n",
    "& =\\beta+(X^\\prime ZW_nZ^\\prime X)^{-1}X^\\prime ZW_nZ^\\prime U\\\\\n",
    "& =\\beta+(X^\\prime ZW_nZ^\\prime X)^{-1}X^\\prime ZW_n\\sum_{i=1}^n(U_iZ_i-EU_iZ_i)+(X^\\prime ZW_nZ^\\prime X)^{-1}X^\\prime ZW_nnEU_1Z_1\\\\\n",
    "& =\\beta+\\big(\\frac{X^\\prime Z}{n}W_n\\frac{Z^\\prime X}{n}\\big)^{-1}\\frac{X^\\prime Z}{n}W_n\\frac{1}{n}\\sum_{i=1}^n(U_iZ_i-EU_iZ_i)+\\big(\\frac{X^\\prime Z}{n}W_n\\frac{Z^\\prime X}{n}\\big)^{-1}\\frac{X^\\prime Z}{n}W_n\\frac{\\delta}{\\sqrt{n}}\n",
    "\\end{align}\n",
    "$$\n",
    "By the WLLN,\n",
    "$$\n",
    "\\frac{Z^\\prime X}{n}\\rightarrow_p Q=EZ_1X_1 \\text{ and } \\frac{1}{n}\\sum_{i=1}^n(U_iZ_i-EU_iZ_i)\\rightarrow_p 0\n",
    "$$\n",
    "and since rank$(Q)=k$ and $\\delta/\\sqrt{n}\\rightarrow 0$, if follows that the probability limit of $\\tilde\\beta_n(W_n)$ is $\\beta$.\n",
    "### (b)\n",
    "From (a) and the central limit theorem,\n",
    "$$\n",
    "\\sqrt{n}(\\tilde\\beta_n(W_n)-\\beta)=\\big(\\frac{X^\\prime Z}{n}W_n\\frac{Z^\\prime X}{n}\\big)^{-1}\\frac{X^\\prime Z}{n}W_n\\frac{1}{\\sqrt{n}}\\sum_{i=1}^n(U_iZ_i-EU_iZ_i)+\\big(\\frac{X^\\prime Z}{n}W_n\\frac{Z^\\prime X}{n}\\big)^{-1}\\frac{X^\\prime Z}{n}W_n\\delta\\\\\n",
    "\\rightarrow_d (Q^\\prime WQ)^{-1}Q^\\prime WD+(Q^\\prime WQ)^{-1}Q^\\prime W\\delta\\\\\n",
    "~ N((Q^\\prime WQ)^{-1}Q^\\prime W\\delta,(Q^\\prime WQ)^{-1}Q^\\prime W\\Omega WQ(Q^\\prime WQ)^{-1})\n",
    "$$\n",
    "where $D~N(0,\\Omega)$\n",
    "### (c)\n",
    "The distribution in (b) cannot be used for inference on $\\beta$ because although it is consistent, it depends on an unknown $\\delta$, for which we don't have an estimator.\n",
    "### (d)\n",
    "Consider $\\hat\\Omega_n=\\frac{1}{n}\\sum_{i=1}^n\\hat{U}_i^2Z_iZ_i^\\prime$ where $\\hat{U}_i=Y_i-X_i^\\prime\\tilde\\beta_n(W_n)$\n",
    "$$\n",
    "\\hat{U}_i=Y_i-X_i^\\prime\\tilde\\beta_n(W_n)=\\frac{1}{n}\\sum_{i=1}^nU_i^2Z_iZ_i^\\prime + \\frac{1}{n}\\sum_{i=1}^n\\big(X_i^\\prime(\\beta-\\tilde\\beta_n(W_n))\\big)^2Z_iZ_i^\\prime - \\frac{2}{n}\\sum_{i=1}^n\\big(X_i^\\prime(\\beta-\\tilde\\beta_n(W_n))\\big)U_iZ_iZ_i^\\prime\n",
    "$$\n",
    "The second and third terms go to zero by the WLLN, consistency of $\\tilde\\beta$, and the assumptions of finite moments of $EZ_{i,j}^4, EX_{i,j}^4, \\text{ and } EU_i^4$. <br>\n",
    "For the first term,\n",
    "$$\n",
    "\\start{align}\n",
    "\\frac{1}{n}\\sum_{i=1}^nU_i^2Z_iZ_i^\\prime & = \\frac{1}{n}\\sum_{i=1}^n(U_iZ_i)(U_iZ_i)^\\prime\n",
    "& = \\frac{1}{n}\\sum_{i=1}^n(U-iZ_i-EU_iZ_i)(U_iZ_i)^\\prime+EU_1Z_1\\frac{1}{n}\\sum_{i=1}^nU_iZ_i^\\prime\n",
    "& = \\frac{1}{n}\\sum_{i=1}^n(U_iZ_i-EU_iZ_i)(U_iZ_i-EU_iZ_i)^\\prime+EU_1Z_1\\times\\frac{1}{n}\\sum_{i=1}^n(U_iZ_i-EU_iZ_i)^\\prime+\\frac{1}{n}\\sum_{i=1}^n(U-iZ_i-EU_iZ_i)\\times EU_1Z_1^\\prime+(EU_1Z_1)(EU_1Z_1)^\\prime\n",
    "\\end{align}\n",
    "$$\n",
    "By the WLLN, this converges to $Var(U_iZ_i)$ (and since $EU_1Z_1\\rightarrow0$"
   ]
  },
  {
   "cell_type": "code",
   "execution_count": null,
   "id": "2ff81866",
   "metadata": {},
   "outputs": [],
   "source": []
  }
 ],
 "metadata": {
  "kernelspec": {
   "display_name": "Julia 1.6.0",
   "language": "julia",
   "name": "julia-1.6"
  },
  "language_info": {
   "file_extension": ".jl",
   "mimetype": "application/julia",
   "name": "julia",
   "version": "1.6.0"
  }
 },
 "nbformat": 4,
 "nbformat_minor": 5
}
