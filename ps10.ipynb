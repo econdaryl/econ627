{
 "cells": [
  {
   "cell_type": "markdown",
   "id": "1e5e45ef",
   "metadata": {},
   "source": [
    "# Problem Set 10\n",
    "## Daryl Larsen\n",
    "\n",
    "### 2 (MC simulations for Lasso)"
   ]
  },
  {
   "cell_type": "code",
   "execution_count": 1,
   "id": "0e69e032",
   "metadata": {},
   "outputs": [
    {
     "data": {
      "text/plain": [
       "MersenneTwister(220407)"
      ]
     },
     "execution_count": 1,
     "metadata": {},
     "output_type": "execute_result"
    }
   ],
   "source": [
    "using Random, Distributions, PrettyTables, SCS, Plots, LinearAlgebra, Convex\n",
    "using Base.Threads: @threads, @spawn\n",
    "Random.seed!(220407)"
   ]
  },
  {
   "cell_type": "code",
   "execution_count": 2,
   "id": "b4669edd",
   "metadata": {},
   "outputs": [],
   "source": [
    "const k = 50;\n",
    "const α = 1;\n",
    "const n = 300;"
   ]
  },
  {
   "cell_type": "markdown",
   "id": "a05d5f25",
   "metadata": {},
   "source": [
    "### a) Generate the data"
   ]
  },
  {
   "cell_type": "code",
   "execution_count": 3,
   "id": "8c3ae83c",
   "metadata": {},
   "outputs": [
    {
     "data": {
      "text/plain": [
       "dgp (generic function with 1 method)"
      ]
     },
     "execution_count": 3,
     "metadata": {},
     "output_type": "execute_result"
    }
   ],
   "source": [
    "function dgp(ρ, σ, β1, β2)\n",
    "    U = rand(Normal(0, σ^2), n)\n",
    "    cov = fill(ρ, (k,k))\n",
    "    cov[diagind(cov)] .= 1\n",
    "    X = rand(MvNormal(zeros(50), cov),n)'\n",
    "    \n",
    "    Y = α .+ β1*X[:,1] .+ β2*X[:,2] .+ U\n",
    "    \n",
    "    return (Y = Y, X = X)\n",
    "end"
   ]
  },
  {
   "cell_type": "markdown",
   "id": "6adaac85",
   "metadata": {},
   "source": [
    "### b) Compute Lasso estimates"
   ]
  },
  {
   "cell_type": "code",
   "execution_count": 4,
   "id": "ede80bab",
   "metadata": {},
   "outputs": [
    {
     "data": {
      "text/plain": [
       "Lasso (generic function with 1 method)"
      ]
     },
     "execution_count": 4,
     "metadata": {},
     "output_type": "execute_result"
    }
   ],
   "source": [
    "MOI=Convex.MOI\n",
    "opt = MOI.OptimizerWithAttributes(SCS.Optimizer, \"eps_abs\"=>1.0e-08,\"eps_rel\"=>1.0e-08, MOI.Silent() => true)\n",
    "\n",
    "function Lasso(Y, X, λ)\n",
    "    N,K = size(X) \n",
    "    X=[X ones(N,1)]\n",
    "    \n",
    "    b = Variable(K+1) \n",
    "    \n",
    "    Q=X'X/N;\n",
    "    c=X'Y/N;\n",
    "    \n",
    "    L1=quadform(b, Q)/2  \n",
    "    L2 = dot(c, b) \n",
    "    L3 = norm(b[1:K], 1)\n",
    "\n",
    "    Sol=minimize(L1-L2+λ*L3)\n",
    "    \n",
    "    solve!(Sol, opt, verbose=false)\n",
    "    \n",
    "    estr=round.(vec(evaluate(b)),digits=5)\n",
    "\n",
    "    return estr\n",
    "end"
   ]
  },
  {
   "cell_type": "markdown",
   "id": "a21165fc",
   "metadata": {},
   "source": [
    "### c) Run 10k Monte Carlo simulations"
   ]
  },
  {
   "cell_type": "code",
   "execution_count": 5,
   "id": "f02a2b27",
   "metadata": {},
   "outputs": [
    {
     "data": {
      "text/plain": [
       "sims (generic function with 1 method)"
      ]
     },
     "execution_count": 5,
     "metadata": {},
     "output_type": "execute_result"
    }
   ],
   "source": [
    "function sims(ρ, σ, β1, β2)\n",
    "\n",
    "    Y,X = dgp(ρ,σ,β1,β2)\n",
    "\n",
    "    λ = 1.1 * σ * sqrt((2 * log(n * k)) / n)\n",
    "\n",
    "    b_i = Lasso(Y, X, λ)\n",
    "    \n",
    "    count_1 = 0\n",
    "    count_1 += b_i[1] != 0 ? 1.0 : 0.0\n",
    "\n",
    "    count_2 = 0\n",
    "    count_2 += b_i[2] != 0 ? 1.0 : 0.0\n",
    "\n",
    "    count_3 = 0\n",
    "    count_3 +=  sum((b_i[3:50] .!= 0) ) > 0 ? 1.0 : 0.0\n",
    "\n",
    "    return (count_1 = count_1, count_2 = count_2, count_3 = count_3)\n",
    "end"
   ]
  },
  {
   "cell_type": "code",
   "execution_count": 6,
   "id": "e4c89b5d",
   "metadata": {},
   "outputs": [
    {
     "data": {
      "text/plain": [
       "0.7783"
      ]
     },
     "execution_count": 6,
     "metadata": {},
     "output_type": "execute_result"
    }
   ],
   "source": [
    "sto_1c = 0\n",
    "sto_2c = 0\n",
    "sto_3c = 0\n",
    "\n",
    "R = 10000\n",
    "\n",
    "for i = 1:R\n",
    "\n",
    "    count_1, count_2, count_3 = sims(0.2,2.0,2.0,2.0)\n",
    "    sto_1c += count_1\n",
    "    sto_2c += count_2\n",
    "    sto_3c += count_3\n",
    "\n",
    "end\n",
    "\n",
    "sto_1c = sto_1c / R\n",
    "sto_2c = sto_2c / R\n",
    "sto_3c = sto_3c / R"
   ]
  },
  {
   "cell_type": "markdown",
   "id": "753eb252",
   "metadata": {},
   "source": [
    "### d)"
   ]
  },
  {
   "cell_type": "code",
   "execution_count": 7,
   "id": "a6903241",
   "metadata": {},
   "outputs": [
    {
     "data": {
      "text/plain": [
       "0.0"
      ]
     },
     "execution_count": 7,
     "metadata": {},
     "output_type": "execute_result"
    }
   ],
   "source": [
    "sto_1d = 0\n",
    "sto_2d = 0\n",
    "sto_3d = 0\n",
    "\n",
    "for i = 1:R\n",
    "\n",
    "    count_1, count_2, count_3 = sims(0.2,0.1,0.1,0.1)\n",
    "    sto_1d += count_1\n",
    "    sto_2d += count_2\n",
    "    sto_3d += count_3\n",
    "\n",
    "end\n",
    "\n",
    "sto_1d = sto_1d / R\n",
    "sto_2d = sto_2d / R\n",
    "sto_3d = sto_3d / R"
   ]
  },
  {
   "cell_type": "markdown",
   "id": "378c85e2",
   "metadata": {},
   "source": [
    "### e)"
   ]
  },
  {
   "cell_type": "code",
   "execution_count": 8,
   "id": "8e1047ec",
   "metadata": {},
   "outputs": [
    {
     "data": {
      "text/plain": [
       "0.6627"
      ]
     },
     "execution_count": 8,
     "metadata": {},
     "output_type": "execute_result"
    }
   ],
   "source": [
    "sto_1e = 0\n",
    "sto_2e = 0\n",
    "sto_3e = 0\n",
    "\n",
    "for i = 1:R\n",
    "\n",
    "    count_1, count_2, count_3 = sims(0.2,2.0,2.0,0.2)\n",
    "    sto_1e += count_1\n",
    "    sto_2e += count_2\n",
    "    sto_3e += count_3\n",
    "\n",
    "end\n",
    "\n",
    "sto_1e = sto_1e / R\n",
    "sto_2e = sto_2e / R\n",
    "sto_3e = sto_3e / R"
   ]
  },
  {
   "cell_type": "markdown",
   "id": "5c7d5398",
   "metadata": {},
   "source": [
    "### f)"
   ]
  },
  {
   "cell_type": "code",
   "execution_count": 9,
   "id": "0de9e768",
   "metadata": {},
   "outputs": [
    {
     "data": {
      "text/plain": [
       "0.9896"
      ]
     },
     "execution_count": 9,
     "metadata": {},
     "output_type": "execute_result"
    }
   ],
   "source": [
    "sto_1f = 0\n",
    "sto_2f = 0\n",
    "sto_3f = 0\n",
    "\n",
    "for i = 1:R\n",
    "\n",
    "    count_1, count_2, count_3 = sims(0.9,2.0,2.0,2.0)\n",
    "    sto_1f += count_1\n",
    "    sto_2f += count_2\n",
    "    sto_3f += count_3\n",
    "\n",
    "end\n",
    "\n",
    "sto_1f = sto_1f / R\n",
    "sto_2f = sto_2f / R\n",
    "sto_3f = sto_3f / R"
   ]
  },
  {
   "cell_type": "markdown",
   "id": "c3115d02",
   "metadata": {},
   "source": [
    "### g)"
   ]
  },
  {
   "cell_type": "code",
   "execution_count": 10,
   "id": "aeb68ae7",
   "metadata": {},
   "outputs": [
    {
     "name": "stdout",
     "output_type": "stream",
     "text": [
      "┌───────────────┬────────┬────────┬────────┐\n",
      "│\u001b[1m Specification \u001b[0m│\u001b[1m Prob 1 \u001b[0m│\u001b[1m Prob 2 \u001b[0m│\u001b[1m Prob 3 \u001b[0m│\n",
      "├───────────────┼────────┼────────┼────────┤\n",
      "│            c) │    1.0 │    1.0 │ 0.7783 │\n",
      "│            d) │    1.0 │    1.0 │    0.0 │\n",
      "│            e) │    1.0 │ 0.1093 │ 0.6627 │\n",
      "│            f) │ 0.9292 │ 0.9279 │ 0.9896 │\n",
      "└───────────────┴────────┴────────┴────────┘\n"
     ]
    }
   ],
   "source": [
    "table_header = [\"Specification\",\"Prob 1\", \"Prob 2\", \"Prob 3\"]\n",
    "content = [\"c)\" sto_1c sto_2c sto_3c ; \"d)\" sto_1d sto_2d sto_3d ; \"e)\" sto_1e sto_2e sto_3e ; \"f)\" sto_1f sto_2f sto_3f]\n",
    "pretty_table(content, table_header)"
   ]
  },
  {
   "cell_type": "markdown",
   "id": "20cc1639",
   "metadata": {},
   "source": []
  }
 ],
 "metadata": {
  "kernelspec": {
   "display_name": "Julia 1.6.0",
   "language": "julia",
   "name": "julia-1.6"
  },
  "language_info": {
   "file_extension": ".jl",
   "mimetype": "application/julia",
   "name": "julia",
   "version": "1.6.0"
  }
 },
 "nbformat": 4,
 "nbformat_minor": 5
}
