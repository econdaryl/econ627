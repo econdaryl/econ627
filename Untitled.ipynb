{
 "cells": [
  {
   "cell_type": "markdown",
   "id": "6aa136d7",
   "metadata": {},
   "source": [
    "# Assignment 3\n",
    "## Daryl Larsen\n",
    "\n",
    "### Question 1\n",
    "#### Part A"
   ]
  },
  {
   "cell_type": "code",
   "execution_count": 10,
   "id": "6417b061",
   "metadata": {},
   "outputs": [
    {
     "name": "stdout",
     "output_type": "stream",
     "text": [
      "[1, 5, 10]3.841458820694124511.07049769351635318.307038053275146"
     ]
    }
   ],
   "source": [
    "using Distributions\n",
    "\n",
    "R = 10^5\n",
    "λ = 0.0:0.1:6.0\n",
    "k = [1; 5; 10]\n",
    "for rep in R\n",
    "    for iter in k\n",
    "        crits = quantile(Chisq(iter),0.95)\n",
    "    end\n",
    "    \n",
    "end\n"
   ]
  },
  {
   "cell_type": "code",
   "execution_count": null,
   "id": "69146243",
   "metadata": {},
   "outputs": [],
   "source": []
  }
 ],
 "metadata": {
  "kernelspec": {
   "display_name": "Julia 1.6.0",
   "language": "julia",
   "name": "julia-1.6"
  },
  "language_info": {
   "file_extension": ".jl",
   "mimetype": "application/julia",
   "name": "julia",
   "version": "1.6.0"
  }
 },
 "nbformat": 4,
 "nbformat_minor": 5
}
