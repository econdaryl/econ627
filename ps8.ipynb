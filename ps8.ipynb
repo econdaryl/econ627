{
 "cells": [
  {
   "cell_type": "markdown",
   "id": "8e010ce6",
   "metadata": {},
   "source": [
    "# PS 8\n",
    "## Daryl Larsen\n",
    "### Question 3"
   ]
  },
  {
   "cell_type": "code",
   "execution_count": 1,
   "id": "c774f32e",
   "metadata": {},
   "outputs": [],
   "source": [
    "using LinearAlgebra, Random, Distributions, PrettyTables, Optim"
   ]
  },
  {
   "cell_type": "code",
   "execution_count": 2,
   "id": "f47912c8",
   "metadata": {},
   "outputs": [
    {
     "data": {
      "text/plain": [
       "CriterionCF (generic function with 1 method)"
      ]
     },
     "execution_count": 2,
     "metadata": {},
     "output_type": "execute_result"
    }
   ],
   "source": [
    "function data(n; β=[1 , 1], π=[1 , 1], ρ=0.99)\n",
    "    \"\"\"\n",
    "    n:= sample size\n",
    "    β:= true beta\n",
    "    π:= true pi\n",
    "    ρ:= correlation coefficient\n",
    "    *** I'm not even using these in the function, but I would if I wanted to costumize the function\n",
    "    \"\"\"\n",
    "    \n",
    "    # Generate V and U a according to N([0,0] ,[1 ρ ; ρ 1])\n",
    "    COVAR = [1 0.99; 0.99 1]; #Var-covar matrix \n",
    "    E = randn(n,2)*sqrt(COVAR);\n",
    "    U = E[:, 1]\n",
    "    V=E[:, 2]\n",
    "    \n",
    "    X2 = randn(n,1)\n",
    "    Z = randn(n,1)\n",
    "        \n",
    "    X1= X2 .+ Z .+ V\n",
    "    Y = sin.(X1 .+ X2) .+ U\n",
    "\n",
    "    return ( Y = Y, X1 = X1, X2 = X2, Z = Z)\n",
    "end\n",
    "\n",
    "function CriterionFV(β, Y, X1, X2, Z, n)\n",
    "    ZX =  [X2 Z];\n",
    "    X1hat = ZX*inv(ZX'*ZX)*ZX'*X1;\n",
    "    Q = (1/(2*n))*sum((Y .- sin.(X1hat.*β[1] .+ X2.*β[2])).^2);\n",
    "    return Q\n",
    "end\n",
    "\n",
    "function CriterionCF(β, Y, X1, X2, Z, n)\n",
    "    ZX =  [X2 Z]\n",
    "    Vhat = X1.-ZX*inv(ZX'*ZX)*ZX'*X1;\n",
    "    Q = (1/(2*n))*sum((Y .- sin.(X1.*β[1] .+ X2.*β[2]) .- Vhat.*β[3]).^2);\n",
    "    return Q\n",
    "end"
   ]
  },
  {
   "cell_type": "markdown",
   "id": "0c2bf880",
   "metadata": {},
   "source": [
    "#### (a) : Monte Carlo with n=100"
   ]
  },
  {
   "cell_type": "code",
   "execution_count": 3,
   "id": "629c4527",
   "metadata": {},
   "outputs": [
    {
     "name": "stdout",
     "output_type": "stream",
     "text": [
      "┌──────┬──────────────┬──────────────────┐\n",
      "│\u001b[1m      \u001b[0m│\u001b[1m Fitted Value \u001b[0m│\u001b[1m Control function \u001b[0m│\n",
      "├──────┼──────────────┼──────────────────┤\n",
      "│ Bias │  -0.00389699 │       0.00146483 │\n",
      "│ RMSE │     0.341415 │        0.0318837 │\n",
      "└──────┴──────────────┴──────────────────┘\n"
     ]
    }
   ],
   "source": [
    "n=100\n",
    "rep=1000\n",
    "biasFV=0\n",
    "biasCF=0\n",
    "rmseFV=0\n",
    "rmseCF=0\n",
    "for i in 1:rep\n",
    "    (Y, X1, X2, Z) = data(n)\n",
    "    resultFV = optimize(b->CriterionFV(b, Y, X1, X2, Z, n)[1,1],[0.9 ; 0.9])\n",
    "    βFV = Optim.minimizer(resultFV)\n",
    "\n",
    "    resultCF = optimize(b->CriterionCF(b, Y, X1, X2, Z, n)[1,1],[0.9 ; 0.9; 0.9])\n",
    "    βCF = Optim.minimizer(resultCF)\n",
    "    \n",
    "    biasFV += βFV[1] -1;\n",
    "    rmseFV += (βFV[1] -1)^2;\n",
    "    biasCF += βCF[1] -1;\n",
    "    rmseCF += (βCF[1] -1)^2;\n",
    "end\n",
    "\n",
    "biasFV = biasFV/rep\n",
    "biasCF = biasCF/rep\n",
    "rmseFV= sqrt(rmseFV/rep)\n",
    "rmseCF= sqrt(rmseCF/rep)\n",
    "\n",
    "table = [ \"Bias\" biasFV biasCF ;\n",
    "\"RMSE\" rmseFV rmseCF ]\n",
    "pretty_table(table , [\"\" \"Fitted Value\" \"Control function\"])"
   ]
  },
  {
   "cell_type": "markdown",
   "id": "28e36411",
   "metadata": {},
   "source": [
    "#### (b) : Monte Carlo with n=1000"
   ]
  },
  {
   "cell_type": "code",
   "execution_count": 4,
   "id": "f0723412",
   "metadata": {},
   "outputs": [
    {
     "name": "stdout",
     "output_type": "stream",
     "text": [
      "┌──────┬──────────────┬──────────────────┐\n",
      "│\u001b[1m      \u001b[0m│\u001b[1m Fitted Value \u001b[0m│\u001b[1m Control function \u001b[0m│\n",
      "├──────┼──────────────┼──────────────────┤\n",
      "│ Bias │   0.00113446 │     -0.000336139 │\n",
      "│ RMSE │    0.0863977 │       0.00836604 │\n",
      "└──────┴──────────────┴──────────────────┘\n"
     ]
    }
   ],
   "source": [
    "n=1000\n",
    "rep=1000\n",
    "biasFV=0\n",
    "biasCF=0\n",
    "rmseFV=0\n",
    "rmseCF=0\n",
    "for i in 1:rep\n",
    "    (Y, X1, X2, Z) = data(n)\n",
    "    resultFV = optimize(b->CriterionFV(b, Y, X1, X2, Z, n)[1,1],[0.9 ; 0.9])\n",
    "    βFV = Optim.minimizer(resultFV)\n",
    "\n",
    "    resultCF = optimize(b->CriterionCF(b, Y, X1, X2, Z, n)[1,1],[0.9 ; 0.9; 0.9])\n",
    "    βCF = Optim.minimizer(resultCF)\n",
    "    \n",
    "    biasFV += βFV[1] -1;\n",
    "    rmseFV += (βFV[1] -1)^2;\n",
    "    biasCF += βCF[1] -1;\n",
    "    rmseCF += (βCF[1] -1)^2;\n",
    "end\n",
    "\n",
    "biasFV = biasFV/rep\n",
    "biasCF = biasCF/rep\n",
    "rmseFV= sqrt(rmseFV/rep)\n",
    "rmseCF= sqrt(rmseCF/rep)\n",
    "\n",
    "table = [ \"Bias\" biasFV biasCF ;\n",
    "\"RMSE\" rmseFV rmseCF ]\n",
    "pretty_table(table , [\"\" \"Fitted Value\" \"Control function\"])"
   ]
  },
  {
   "cell_type": "markdown",
   "id": "e819a95e",
   "metadata": {},
   "source": [
    "#### (c) : Consistency\n",
    "Both estimators are consistent. The control function works better overall because the fitted value estimator takes more time to converge and the RMSE for the fitted value estimator is 10x the control function estimator RMSE."
   ]
  }
 ],
 "metadata": {
  "kernelspec": {
   "display_name": "Julia 1.6.0",
   "language": "julia",
   "name": "julia-1.6"
  },
  "language_info": {
   "file_extension": ".jl",
   "mimetype": "application/julia",
   "name": "julia",
   "version": "1.6.0"
  }
 },
 "nbformat": 4,
 "nbformat_minor": 5
}
