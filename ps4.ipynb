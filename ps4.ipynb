{
 "cells": [
  {
   "cell_type": "markdown",
   "id": "6aa136d7",
   "metadata": {},
   "source": [
    "# Assignment 4\n",
    "## Daryl Larsen\n",
    "\n",
    "### Question 1 - Estimation with efficient instruments\n",
    "#### (a)\n",
    "$Z_i$ has a discrete distribution, so we can find the expectation of $X_i \\mid Z_i$ with\n",
    "$$ E[X_i \\mid Z_i]=\\sum_{j=1}^JE[X_i \\mid Z_i=z^j]\\times\\mathbb{1}\\{Z_i=z^j\\} $$\n",
    "From the problem, \n",
    "$$\n",
    "\\begin{align}\n",
    "E(X_i \\mid Z_i) &= \\sum_{j=1}^J \\pi_j \\mathbb{1}\\{Z_i=z^j\\}\\\\\n",
    "\\implies \\pi_j &= E[X_i \\mid Z_i=z^j]\n",
    "\\end{align}\n",
    "$$"
   ]
  },
  {
   "cell_type": "markdown",
   "id": "a27e67e1",
   "metadata": {},
   "source": [
    "#### (b)\n",
    "We want to find a consistent estimator of $E(U_i^2 \\mid Z_i)$, where $U_i = Y_i - X_i^\\prime\\beta$. So first we need a consistent estimator of $U$, which we can obtain as\n",
    "$$\n",
    "\\begin{align}\n",
    "\\hat{U}&= Y_i -X_i^\\prime\\hat\\beta\\\\\n",
    "&= U_i + X_i^\\prime(\\beta-\\hat\\beta)\n",
    "\\end{align}\n",
    "$$\n",
    "where $\\hat\\beta$ is some consistent estimator for $\\beta$. Then let $D_i$ be a vector of dummy variables for $Z_i = z^j$ and let $\\hat\\theta$ be the OLS estimator from a regression of $\\hat{U}_i^2$ against $D_i$. Then $\\hat\\theta$ will be a consistent estimator for $E(U_i^2 \\mid Z_i)$ because the extra part, $\\beta-\\hat\\beta$, will converge to zero.  \n",
    "It is reasonable to assume that $\\theta_j \\neq 0, \\forall j=1,...,J$ as long as $n$ is large, because 0 is the lower bound."
   ]
  },
  {
   "cell_type": "markdown",
   "id": "b1b247ad",
   "metadata": {},
   "source": [
    "#### (c)\n",
    "From (a) and (b), $g^*(Z_i)=\\pi_j/\\theta_j$. Since $\\hat\\pi_j \\rightarrow_p \\pi_j$ and $\\hat\\theta_j \\rightarrow_p \\theta_j, \\theta_j\\neq 0$,\n",
    "$$\n",
    "\\frac{\\hat\\pi_j}{\\hat\\theta_j} - \\frac{\\pi_j}{\\theta_j} \\rightarrow_p 0\n",
    "$$"
   ]
  },
  {
   "cell_type": "markdown",
   "id": "641853e6",
   "metadata": {},
   "source": [
    "#### (d)\n",
    "Since the number of instruments is $k, \\beta$ is exactly identified in the instrumental variable regression. Then the sample moment conditions that define $\\hat\\beta_n^* \\text{ and } \\hat\\beta_n$ are:\n",
    "$$\n",
    "\\begin{align}\n",
    "\\sum_{i=1}^n g^*(Z_i)\\biggl( Y_i-X_i^\\prime \\hat\\beta_n^* \\biggl) &= 0\\\\\n",
    "\\sum_{i=1}^n \\hat{g}_n^* (Z_i) \\biggr( Y_i-X_i^\\prime \\hat\\beta_n \\biggr) &= 0\n",
    "\\end{align}\n",
    "$$\n",
    "Subtracting, we have that\n",
    "$$\n",
    "\\begin{align}\n",
    "0 &= \\sum_{i=1}^n (g^*(Z_i)-g^*(Z_i))Y_i-\\sum_{i=1}^n \\hat{g}_n^*(Z_i)X_i^\\prime\\hat\\beta_n + \\sum_{i=1}^ng^*(Z_i)X_i^\\prime\\hat\\beta_n^*\\\\\n",
    "&= \\sum_{i=1}^n(\\hat{g}_n^*(Z_i)-g^*(Z_i))Y_i - \\sum_{i=1}^n\\hat{g}_n^*(Z_i)X_i^\\prime)\\biggr(\\hat\\beta_n-\\hat\\beta_n^*\\biggr)-\\sum_{i=1}^n(\\hat{g}_n^*(Z_i)-g^*(Z_i))X_i^\\prime\\hat\\beta_n^*\\\\\n",
    "&= \\sum_{i=1}^n(\\hat{g}_n^*(Z_i)-g^*(Z_i))\\biggr(Y_i-X_i^\\prime\\hat\\beta_n^*\\biggr)-\\sum_{i=1}^n\\hat{g}_n^*X_i^\\prime\\biggr(\\hat\\beta_n-\\hat\\beta_n^*\\biggr)\n",
    "\\end{align}\n",
    "$$"
   ]
  },
  {
   "cell_type": "markdown",
   "id": "5f3c7588",
   "metadata": {},
   "source": [
    "#### (e)\n",
    "$\\frac{1}{n}\\sum_{i=1}^n\\hat{g}_n^*(Z_i)X_i^\\prime=\\frac{1}{n}\\sum_{i=1}^n\\hat{g}^*(Z_i)X_i^\\prime+R_n$, where $R_n=\\frac{1}{n}\\sum_{i=1}^n(\\hat{g}_n^*(Z_i)-g^*(Z_i))X_i^\\prime$. By the law of large numbers,\n",
    "$$\n",
    "\\frac{1}{n}\\sum_{i=1}^ng^*(Z_i)X_i^\\prime \\rightarrow_p E\\biggr[\\frac{E[X_1 \\mid Z_1]E[X_1^\\prime \\mid Z_1]}{E[U_1^2 \\mid Z_1]}\\biggr]\n",
    "$$\n",
    "From (c), $R_n$ converges to 0 because $\\hat{g}_n^*(Z_i) \\rightarrow_p g^*(Z_i)$.  \n",
    "This probability limit should be positive definite."
   ]
  },
  {
   "cell_type": "markdown",
   "id": "817f385a",
   "metadata": {},
   "source": [
    "#### (f)\n",
    "From (c), (d), and (e),\n",
    "$$\n",
    "n^{1/2}\\biggr(\\hat\\beta_n-\\hat\\beta_n^*\\biggr) =\\\\\n",
    "\\begin{align}\n",
    "&=\\biggr(\\frac{1}{n}\\sum_{i=1}^n\\hat{g}_n^*(Z_i)X_i^\\prime\\biggr)^{-1}\\frac{1}{\\sqrt{n}}\\sum_{i=1}^n(\\hat{g}_n^*(Z_i)-g^*(Z_i))\\biggr(Y_i-X_i^\\prime\\hat\\beta_n^*\\biggr)\\\\\n",
    "&=\\biggr(\\frac{1}{n}\\sum_{i=1}^n\\hat{g}_n^*(Z_i)X_i^\\prime\\biggr)^{-1}\\frac{1}{\\sqrt{n}}\\sum_{i=1}^n(\\hat{g}_n^*(Z_i)-g^*(Z_i))\\biggr(U_i-X_i^\\prime(\\hat\\beta_n^*-\\beta)\\biggr)\\\\\n",
    "&=\\biggr(\\frac{1}{n}\\sum_{i=1}^n\\hat{g}_n^*(Z_i)X_i^\\prime\\biggr)^{-1}\\sum_{j=1}^J\\biggr(\\frac{\\hat\\pi_{n,j}}{\\hat\\theta_{n,j}}-\\frac{\\pi_j}{\\theta_j}\\biggr)\\frac{1}{\\sqrt{n}}\\sum_{i=1}^n\\mathbb{1}\\{Z_i=z^j\\}\\biggr(U_i-X_i^\\prime(\\hat\\beta_n^*-\\beta)\\biggr)\n",
    "\\end{align}\n",
    "$$"
   ]
  },
  {
   "cell_type": "markdown",
   "id": "712394de",
   "metadata": {},
   "source": [
    "#### (g)\n",
    "From (e), \n",
    "$$\n",
    "\\biggr(\\frac{1}{n}\\sum_{i=1}^n\\hat{g}_n^*(Z_i)X_i^\\prime\\biggr)^{-1}=O_p(1)\n",
    "$$\n",
    "From (c),\n",
    "$$\n",
    "\\frac{\\hat\\pi_{n,j}}{\\hat\\theta_{n,j}}-\\frac{\\pi_j}{\\theta_j}=o_p(1)\n",
    "$$\n",
    "for all j. Since $E[U_i \\mid Z_i]=0, \\text{ this implies }$\n",
    "$$\n",
    "E[\\mathbb{1}\\{Z_i=z^j\\}E[U_i \\mid Z_i]=0\\\\\n",
    "\\implies n^{-1/2}\\sum_{i=1}^n\\mathbb{1}\\{Z_i=z^j\\}U_i=O_p(1)\n",
    "$$\n",
    "Then we have $O_p(1)\\times O_p(1) \\times o_p(1)=o_p(1)$."
   ]
  },
  {
   "cell_type": "markdown",
   "id": "397fd0ea",
   "metadata": {},
   "source": [
    "#### (h)\n",
    "$$\n",
    "n^{1/2}\\biggr(\\hat\\beta_n^*-\\beta\\biggr)\\rightarrow_d N(0,V^{*-1})\n",
    "$$\n",
    "Now from g,\n",
    "$$\n",
    "\\begin{align}\n",
    "n^{1/2}\\biggr(\\hat\\beta_n-\\beta\\biggr)&=n^{1/2}\\biggr(\\hat\\beta_n-\\hat\\beta_n^*+\\hat\\beta_n^*-\\beta\\biggr)\\\\\n",
    "&=n^{1/2}\\biggr(\\hat\\beta_n^*-\\beta\\biggr)+n^{1/2}\\biggr(\\hat\\beta_n-\\hat\\beta_n^*\\biggr)\\\\\n",
    "&=n^{1/2}\\biggr(\\hat\\beta_n^*-\\beta\\biggr)+o_p(1)\\\\\n",
    "&\\rightarrow_d N(0,V^{*-1})\n",
    "\\end{align}\n",
    "$$"
   ]
  },
  {
   "cell_type": "markdown",
   "id": "75d24c42",
   "metadata": {},
   "source": [
    "## Question 2 - Monte Carlo"
   ]
  },
  {
   "cell_type": "code",
   "execution_count": 1,
   "id": "55c3b734",
   "metadata": {},
   "outputs": [],
   "source": [
    "using Distributions, PrettyTables, Random, Parameters"
   ]
  },
  {
   "cell_type": "markdown",
   "id": "dc1124f3",
   "metadata": {},
   "source": [
    "### Set constants and define function to generate data"
   ]
  },
  {
   "cell_type": "code",
   "execution_count": 2,
   "id": "f276641e",
   "metadata": {},
   "outputs": [
    {
     "data": {
      "text/plain": [
       "gen_data (generic function with 1 method)"
      ]
     },
     "execution_count": 2,
     "metadata": {},
     "output_type": "execute_result"
    }
   ],
   "source": [
    "β=0.15\n",
    "ρ=0.9\n",
    "Σ=[1.0 ρ; ρ 1;];\n",
    "\n",
    "function gen_data(n)\n",
    "    mvnorm = MvNormal([0.0;0.0], Σ)\n",
    "    \n",
    "    W = rand(Uniform(0, 1), n)\n",
    "    Z = -0.5*(W.<0.2)-0.1*(W.>=0.2).*(W.<0.4)+0.1*(W.>=0.4).*(W.<0.6)+1*(W.>=0.6)\n",
    "    \n",
    "    Err = rand(mvnorm,n)'\n",
    "    ϵ=Err[:,1]\n",
    "    V=Err[:,2]\n",
    "    U = (1.0.+Z).*ϵ\n",
    "    X = 5*Z.^2+V\n",
    "    Y = β*X+U\n",
    "    return(Y = Y, X = X, Z = Z)\n",
    "end"
   ]
  },
  {
   "cell_type": "markdown",
   "id": "90a438dc",
   "metadata": {},
   "source": [
    "### Compute the three IV estimators (2SLS using $Z_i$, infeasible efficient, feasible efficient)"
   ]
  },
  {
   "cell_type": "code",
   "execution_count": 3,
   "id": "a610f8ac",
   "metadata": {},
   "outputs": [
    {
     "data": {
      "text/plain": [
       "efficients (generic function with 1 method)"
      ]
     },
     "execution_count": 3,
     "metadata": {},
     "output_type": "execute_result"
    }
   ],
   "source": [
    "function efficients(Y,X,Z)\n",
    "    # infeasible\n",
    "    g_infeas = (4*Z.^2)./((1.0.+Z).^2)\n",
    "    \n",
    "    # feasible\n",
    "    Z1 = 1*(Z.==-0.5)\n",
    "    Z2 = 1*(Z.==-0.1)\n",
    "    Z3 = 1*(Z.==0.1)\n",
    "    Z4 = 1*(Z.==1)\n",
    "    \n",
    "    D = [Z1 Z2 Z3 Z4]\n",
    "    PD = D/(D'*D)*D'\n",
    "    \n",
    "    Uhat = Y-(Z'*X)\\(Z'*Y)*X\n",
    "    g_feas = (PD*X)./(PD*(Uhat.^2))\n",
    "    \n",
    "    return (g_infeas = g_infeas, g_feas = g_feas)\n",
    "end"
   ]
  },
  {
   "cell_type": "code",
   "execution_count": 4,
   "id": "6f46410b",
   "metadata": {},
   "outputs": [
    {
     "data": {
      "text/plain": [
       "estimators (generic function with 1 method)"
      ]
     },
     "execution_count": 4,
     "metadata": {},
     "output_type": "execute_result"
    }
   ],
   "source": [
    "function estimators(Y,X,Z)\n",
    "    @unpack g_infeas, g_feas = efficients(Y,X,Z)\n",
    "    \n",
    "    n = length(Y)\n",
    "    \n",
    "    # 2sls\n",
    "    β2sls = (Z'*X)\\(Z'*Y)\n",
    "    U = Y - X*β2sls\n",
    "    zu = Z.*U\n",
    "    zx = Z'*X\n",
    "    Ω2sls = n*((zx)\\(zu'*zu)/(zx'))\n",
    "    se2sls = sqrt.(Ω2sls)\n",
    "    \n",
    "    # efficient infeasible\n",
    "    βinf = (g_infeas'*X)\\(g_infeas'*Y)\n",
    "    Ωinf = n*inv(g_infeas'*X)\n",
    "    seinf = sqrt.(Ωinf)\n",
    "    \n",
    "    # efficient feasible\n",
    "    βfea = (g_feas'*X)\\(g_feas'*Y)\n",
    "    Ωfea = n*inv(g_feas'*X)\n",
    "    sefea = sqrt.(Ωfea)\n",
    "    \n",
    "    return (β2sls = β2sls, se2sls = se2sls, βinf = βinf, seinf = seinf, βfea = βfea, sefea = sefea)\n",
    "end"
   ]
  },
  {
   "cell_type": "markdown",
   "id": "f7c2a5d7",
   "metadata": {},
   "source": [
    "### Results $n=100$"
   ]
  },
  {
   "cell_type": "code",
   "execution_count": 5,
   "id": "6cd7ace5",
   "metadata": {},
   "outputs": [],
   "source": [
    "n = 100\n",
    "R = 10^4\n",
    "\n",
    "sig_2sls = zeros(1,3)\n",
    "length_2sls = zeros(1,3)\n",
    "cov_2sls = zeros(1,3)\n",
    "\n",
    "sig_inf = zeros(1,3)\n",
    "length_inf = zeros(1,3)\n",
    "cov_inf = zeros(1,3)\n",
    "\n",
    "sig_fea = zeros(1,3)\n",
    "length_fea = zeros(1,3)\n",
    "cov_fea = zeros(1,3)\n",
    "\n",
    "α = [0.1 0.05 0.01]\n",
    "\n",
    "for r = 1:R\n",
    "    Y, X, Z = gen_data(n)\n",
    "    @unpack β2sls, se2sls, βinf, seinf, βfea, sefea = estimators(Y,X,Z)\n",
    "    \n",
    "    upper_2sls = β2sls .- se2sls*quantile.(Normal(), α./2)/sqrt(n)\n",
    "    lower_2sls = β2sls .+ se2sls*quantile.(Normal(), α./2)/sqrt(n)\n",
    "    \n",
    "    upper_inf = βinf .- seinf*quantile.(Normal(), α./2)/sqrt(n)\n",
    "    lower_inf = βinf .+ seinf*quantile.(Normal(), α./2)/sqrt(n)\n",
    "    \n",
    "    upper_fea = βfea .- sefea*quantile.(Normal(), α./2)/sqrt(n)\n",
    "    lower_fea = βfea .+ sefea*quantile.(Normal(), α./2)/sqrt(n)\n",
    "    \n",
    "    sig_2sls .+= 1*(lower_2sls.>0)\n",
    "    sig_inf .+= 1*(lower_inf.>0)\n",
    "    sig_fea .+= 1*(lower_fea.>0)\n",
    "    \n",
    "    cov_2sls .+= 1*(upper_2sls.>β).*(lower_2sls.<β)\n",
    "    cov_inf .+= 1*(upper_inf.>β).*(lower_inf.<β)\n",
    "    cov_fea .+= 1*(upper_fea.>β).*(lower_fea.<β)\n",
    "    \n",
    "    length_2sls .+= 1*(upper_2sls .- lower_2sls)\n",
    "    length_inf .+= 1*(upper_inf .- lower_inf)\n",
    "    length_fea .+= 1*(upper_fea .- lower_fea)\n",
    "end\n",
    "\n",
    "sig_2sls = sig_2sls./R\n",
    "cov_2sls = cov_2sls./R\n",
    "length_2sls = length_2sls./R\n",
    "\n",
    "sig_inf = sig_inf./R\n",
    "cov_inf = cov_inf./R\n",
    "length_inf = length_inf./R\n",
    "\n",
    "sig_fea = sig_fea./R\n",
    "cov_fea = cov_fea./R\n",
    "length_fea = length_fea./R ;"
   ]
  },
  {
   "cell_type": "markdown",
   "id": "9613c6d2",
   "metadata": {},
   "source": [
    "### Coverage (n=100)"
   ]
  },
  {
   "cell_type": "code",
   "execution_count": 6,
   "id": "65e0c8fc",
   "metadata": {},
   "outputs": [
    {
     "name": "stdout",
     "output_type": "stream",
     "text": [
      "┌──────┬────────┬──────────────────────┬────────────────────┐\n",
      "│\u001b[1m    α \u001b[0m│\u001b[1m   2SLS \u001b[0m│\u001b[1m Infeasible Efficient \u001b[0m│\u001b[1m Feasible Efficient \u001b[0m│\n",
      "├──────┼────────┼──────────────────────┼────────────────────┤\n",
      "│  0.9 │ 0.8879 │               0.9322 │             0.8733 │\n",
      "│ 0.95 │ 0.9383 │                 0.97 │             0.9308 │\n",
      "│ 0.99 │ 0.9842 │               0.9957 │             0.9783 │\n",
      "└──────┴────────┴──────────────────────┴────────────────────┘\n"
     ]
    }
   ],
   "source": [
    "header = [\"α\" \"2SLS\" \"Infeasible Efficient\" \"Feasible Efficient\"]\n",
    "table = [0.90 cov_2sls[1] cov_inf[1] cov_fea[1] ;\n",
    "0.95 cov_2sls[2] cov_inf[2] cov_fea[2] ;\n",
    "0.99 cov_2sls[3] cov_inf[3] cov_fea[3] ]\n",
    "\n",
    "pretty_table(table, header)"
   ]
  },
  {
   "cell_type": "markdown",
   "id": "d5ce8f22",
   "metadata": {},
   "source": [
    "### Probability of statistically significant results (n=100)"
   ]
  },
  {
   "cell_type": "code",
   "execution_count": 7,
   "id": "5ab15a11",
   "metadata": {},
   "outputs": [
    {
     "name": "stdout",
     "output_type": "stream",
     "text": [
      "┌──────┬────────┬──────────────────────┬────────────────────┐\n",
      "│\u001b[1m    α \u001b[0m│\u001b[1m   2SLS \u001b[0m│\u001b[1m Infeasible Efficient \u001b[0m│\u001b[1m Feasible Efficient \u001b[0m│\n",
      "├──────┼────────┼──────────────────────┼────────────────────┤\n",
      "│  0.9 │ 0.6958 │               0.8323 │             0.8756 │\n",
      "│ 0.95 │ 0.5992 │               0.7366 │             0.8119 │\n",
      "│ 0.99 │ 0.3938 │               0.5006 │             0.6476 │\n",
      "└──────┴────────┴──────────────────────┴────────────────────┘\n"
     ]
    }
   ],
   "source": [
    "header = [\"α\" \"2SLS\" \"Infeasible Efficient\" \"Feasible Efficient\"]\n",
    "table = [0.90 sig_2sls[1] sig_inf[1] sig_fea[1] ;\n",
    "0.95 sig_2sls[2] sig_inf[2] sig_fea[2] ;\n",
    "0.99 sig_2sls[3] sig_inf[3] sig_fea[3] ]\n",
    "\n",
    "pretty_table(table, header)"
   ]
  },
  {
   "cell_type": "markdown",
   "id": "c83c6114",
   "metadata": {},
   "source": [
    "### Average length of confidence interval (n=100)"
   ]
  },
  {
   "cell_type": "code",
   "execution_count": 8,
   "id": "e605dde1",
   "metadata": {},
   "outputs": [
    {
     "name": "stdout",
     "output_type": "stream",
     "text": [
      "┌──────┬──────────┬──────────────────────┬────────────────────┐\n",
      "│\u001b[1m    α \u001b[0m│\u001b[1m     2SLS \u001b[0m│\u001b[1m Infeasible Efficient \u001b[0m│\u001b[1m Feasible Efficient \u001b[0m│\n",
      "├──────┼──────────┼──────────────────────┼────────────────────┤\n",
      "│  0.9 │ 0.220967 │             0.190815 │           0.166172 │\n",
      "│ 0.95 │ 0.263299 │              0.22737 │           0.198006 │\n",
      "│ 0.99 │ 0.346033 │             0.298814 │           0.260225 │\n",
      "└──────┴──────────┴──────────────────────┴────────────────────┘\n"
     ]
    }
   ],
   "source": [
    "header = [\"α\" \"2SLS\" \"Infeasible Efficient\" \"Feasible Efficient\"]\n",
    "table = [0.90 length_2sls[1] length_inf[1] length_fea[1] ;\n",
    "0.95 length_2sls[2] length_inf[2] length_fea[2] ;\n",
    "0.99 length_2sls[3] length_inf[3] length_fea[3] ]\n",
    "\n",
    "pretty_table(table, header)"
   ]
  },
  {
   "cell_type": "markdown",
   "id": "ff2fc882",
   "metadata": {},
   "source": [
    "### Results for n=400"
   ]
  },
  {
   "cell_type": "code",
   "execution_count": 9,
   "id": "0cb50a89",
   "metadata": {},
   "outputs": [],
   "source": [
    "n = 400\n",
    "R = 10^4\n",
    "\n",
    "sig_2sls = zeros(1,3)\n",
    "length_2sls = zeros(1,3)\n",
    "cov_2sls = zeros(1,3)\n",
    "\n",
    "sig_inf = zeros(1,3)\n",
    "length_inf = zeros(1,3)\n",
    "cov_inf = zeros(1,3)\n",
    "\n",
    "sig_fea = zeros(1,3)\n",
    "length_fea = zeros(1,3)\n",
    "cov_fea = zeros(1,3)\n",
    "\n",
    "α = [0.1 0.05 0.01]\n",
    "\n",
    "for r = 1:R\n",
    "    Y, X, Z = gen_data(n)\n",
    "    @unpack β2sls, se2sls, βinf, seinf, βfea, sefea = estimators(Y,X,Z)\n",
    "    \n",
    "    upper_2sls = β2sls .- se2sls*quantile.(Normal(), α./2)/sqrt(n)\n",
    "    lower_2sls = β2sls .+ se2sls*quantile.(Normal(), α./2)/sqrt(n)\n",
    "    \n",
    "    upper_inf = βinf .- seinf*quantile.(Normal(), α./2)/sqrt(n)\n",
    "    lower_inf = βinf .+ seinf*quantile.(Normal(), α./2)/sqrt(n)\n",
    "    \n",
    "    upper_fea = βfea .- sefea*quantile.(Normal(), α./2)/sqrt(n)\n",
    "    lower_fea = βfea .+ sefea*quantile.(Normal(), α./2)/sqrt(n)\n",
    "    \n",
    "    sig_2sls .+= 1*(lower_2sls.>0)\n",
    "    sig_inf .+= 1*(lower_inf.>0)\n",
    "    sig_fea .+= 1*(lower_fea.>0)\n",
    "    \n",
    "    cov_2sls .+= 1*(upper_2sls.>β).*(lower_2sls.<β)\n",
    "    cov_inf .+= 1*(upper_inf.>β).*(lower_inf.<β)\n",
    "    cov_fea .+= 1*(upper_fea.>β).*(lower_fea.<β)\n",
    "    \n",
    "    length_2sls .+= 1*(upper_2sls .- lower_2sls)\n",
    "    length_inf .+= 1*(upper_inf .- lower_inf)\n",
    "    length_fea .+= 1*(upper_fea .- lower_fea)\n",
    "end\n",
    "\n",
    "sig_2sls = sig_2sls./R\n",
    "cov_2sls = cov_2sls./R\n",
    "length_2sls = length_2sls./R\n",
    "\n",
    "sig_inf = sig_inf./R\n",
    "cov_inf = cov_inf./R\n",
    "length_inf = length_inf./R\n",
    "\n",
    "sig_fea = sig_fea./R\n",
    "cov_fea = cov_fea./R\n",
    "length_fea = length_fea./R ;"
   ]
  },
  {
   "cell_type": "markdown",
   "id": "2bda66ac",
   "metadata": {},
   "source": [
    "### Coverage (n=400)"
   ]
  },
  {
   "cell_type": "code",
   "execution_count": 10,
   "id": "e724417c",
   "metadata": {},
   "outputs": [
    {
     "name": "stdout",
     "output_type": "stream",
     "text": [
      "┌──────┬────────┬──────────────────────┬────────────────────┐\n",
      "│\u001b[1m    α \u001b[0m│\u001b[1m   2SLS \u001b[0m│\u001b[1m Infeasible Efficient \u001b[0m│\u001b[1m Feasible Efficient \u001b[0m│\n",
      "├──────┼────────┼──────────────────────┼────────────────────┤\n",
      "│  0.9 │ 0.8901 │               0.9306 │             0.8917 │\n",
      "│ 0.95 │ 0.9477 │               0.9722 │             0.9454 │\n",
      "│ 0.99 │ 0.9896 │               0.9947 │             0.9878 │\n",
      "└──────┴────────┴──────────────────────┴────────────────────┘\n"
     ]
    }
   ],
   "source": [
    "header = [\"α\" \"2SLS\" \"Infeasible Efficient\" \"Feasible Efficient\"]\n",
    "table = [0.90 cov_2sls[1] cov_inf[1] cov_fea[1] ;\n",
    "0.95 cov_2sls[2] cov_inf[2] cov_fea[2] ;\n",
    "0.99 cov_2sls[3] cov_inf[3] cov_fea[3] ]\n",
    "\n",
    "pretty_table(table, header)"
   ]
  },
  {
   "cell_type": "markdown",
   "id": "ab4ebdf0",
   "metadata": {},
   "source": [
    "### Probability of statistically significant results (n=400)"
   ]
  },
  {
   "cell_type": "code",
   "execution_count": 11,
   "id": "484f1d51",
   "metadata": {},
   "outputs": [
    {
     "name": "stdout",
     "output_type": "stream",
     "text": [
      "┌──────┬────────┬──────────────────────┬────────────────────┐\n",
      "│\u001b[1m    α \u001b[0m│\u001b[1m   2SLS \u001b[0m│\u001b[1m Infeasible Efficient \u001b[0m│\u001b[1m Feasible Efficient \u001b[0m│\n",
      "├──────┼────────┼──────────────────────┼────────────────────┤\n",
      "│  0.9 │ 0.9939 │               0.9998 │             0.9998 │\n",
      "│ 0.95 │ 0.9869 │               0.9994 │             0.9995 │\n",
      "│ 0.99 │ 0.9452 │               0.9958 │             0.9969 │\n",
      "└──────┴────────┴──────────────────────┴────────────────────┘\n"
     ]
    }
   ],
   "source": [
    "header = [\"α\" \"2SLS\" \"Infeasible Efficient\" \"Feasible Efficient\"]\n",
    "table = [0.90 sig_2sls[1] sig_inf[1] sig_fea[1] ;\n",
    "0.95 sig_2sls[2] sig_inf[2] sig_fea[2] ;\n",
    "0.99 sig_2sls[3] sig_inf[3] sig_fea[3] ]\n",
    "\n",
    "pretty_table(table, header)"
   ]
  },
  {
   "cell_type": "markdown",
   "id": "2693f62e",
   "metadata": {},
   "source": [
    "### Average length of confidence interval (n=400)"
   ]
  },
  {
   "cell_type": "code",
   "execution_count": 12,
   "id": "c3bc8af5",
   "metadata": {},
   "outputs": [
    {
     "name": "stdout",
     "output_type": "stream",
     "text": [
      "┌──────┬──────────┬──────────────────────┬────────────────────┐\n",
      "│\u001b[1m    α \u001b[0m│\u001b[1m     2SLS \u001b[0m│\u001b[1m Infeasible Efficient \u001b[0m│\u001b[1m Feasible Efficient \u001b[0m│\n",
      "├──────┼──────────┼──────────────────────┼────────────────────┤\n",
      "│  0.9 │ 0.111484 │            0.0950618 │          0.0845388 │\n",
      "│ 0.95 │ 0.132841 │             0.113273 │           0.100734 │\n",
      "│ 0.99 │ 0.174583 │             0.148866 │           0.132387 │\n",
      "└──────┴──────────┴──────────────────────┴────────────────────┘\n"
     ]
    }
   ],
   "source": [
    "header = [\"α\" \"2SLS\" \"Infeasible Efficient\" \"Feasible Efficient\"]\n",
    "table = [0.90 length_2sls[1] length_inf[1] length_fea[1] ;\n",
    "0.95 length_2sls[2] length_inf[2] length_fea[2] ;\n",
    "0.99 length_2sls[3] length_inf[3] length_fea[3] ]\n",
    "\n",
    "pretty_table(table, header)"
   ]
  },
  {
   "cell_type": "markdown",
   "id": "1d8628ce",
   "metadata": {},
   "source": [
    "Simulated coverage probabilities for all three estimators are pretty close to the $1-\\alpha$ values. However, the efficient IVs generally have higher probability of statistically significant results and smaller confidence intervals than the 2SLS estimator. The differences between feasible and infeasible efficient estimators are very small, particularly with length of confidence interval and probability of significant results. The coverage tends to be lower, likely because $n$ is small.\n",
    "\n",
    "With $n=400$, coverage probabilities are very close to the correct numbers, but $n=100$ is too small to get correct values so the coverage probabilities are off."
   ]
  }
 ],
 "metadata": {
  "kernelspec": {
   "display_name": "Julia 1.6.0",
   "language": "julia",
   "name": "julia-1.6"
  },
  "language_info": {
   "file_extension": ".jl",
   "mimetype": "application/julia",
   "name": "julia",
   "version": "1.6.0"
  }
 },
 "nbformat": 4,
 "nbformat_minor": 5
}
